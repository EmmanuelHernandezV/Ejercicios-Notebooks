{
  "nbformat": 4,
  "nbformat_minor": 0,
  "metadata": {
    "kernelspec": {
      "display_name": "Python 3",
      "language": "python",
      "name": "python3"
    },
    "language_info": {
      "codemirror_mode": {
        "name": "ipython",
        "version": 3
      },
      "file_extension": ".py",
      "mimetype": "text/x-python",
      "name": "python",
      "nbconvert_exporter": "python",
      "pygments_lexer": "ipython3",
      "version": "3.7.3"
    },
    "colab": {
      "name": "09. Neural Networks Advanced - Python.ipynb",
      "provenance": [],
      "toc_visible": true,
      "include_colab_link": true
    }
  },
  "cells": [
    {
      "cell_type": "markdown",
      "metadata": {
        "id": "view-in-github",
        "colab_type": "text"
      },
      "source": [
        "<a href=\"https://colab.research.google.com/github/EmmanuelHernandezV/Ejercicios-Notebooks/blob/main/09.%20Neural%20Networks%20Advanced%20-%20Python.ipynb\" target=\"_parent\"><img src=\"https://colab.research.google.com/assets/colab-badge.svg\" alt=\"Open In Colab\"/></a>"
      ]
    },
    {
      "cell_type": "markdown",
      "metadata": {
        "id": "ajdcY4drfmOC"
      },
      "source": [
        "Exercise 9 - Advanced Neural Networks\n",
        "==========\n",
        "\n",
        "There are many factors that influence how well a neural network might perform. AI practitioners tend to play around with the structure of the hidden layers, the activation functions used, and the optimisation function.\n",
        "\n",
        "In this exercise we will look at how changing these parameters impacts the accuracy performance of our network."
      ]
    },
    {
      "cell_type": "markdown",
      "metadata": {
        "id": "pstGq9YifmOF"
      },
      "source": [
        "Step 1\n",
        "------\n",
        "\n",
        "In this exercise we will use the same dog dataset as in exercise 8, building on what we learnt before and trying different parameters for a network to try and improve performance.\n",
        "\n",
        "Let's start by opening up our data set and setting up our train and test sets.\n",
        "\n",
        "#### __Run the code__ below."
      ]
    },
    {
      "cell_type": "code",
      "metadata": {
        "id": "E1hTyo1EfmOQ",
        "outputId": "e3a91b75-9ef0-413e-eb82-f74ed134f20f",
        "colab": {
          "base_uri": "https://localhost:8080/"
        }
      },
      "source": [
        "# Run this!\n",
        "\n",
        "# Here we set a randomisation seed for replicatability.\n",
        "import os\n",
        "os.environ['PYTHONHASHSEED'] = '0'\n",
        "seed = 6\n",
        "import random as rn\n",
        "rn.seed(seed)\n",
        "import numpy as np\n",
        "np.random.seed(seed)\n",
        "\n",
        "import warnings\n",
        "warnings.filterwarnings(\"ignore\")\n",
        "\n",
        "from keras import backend as K\n",
        "import keras\n",
        "\n",
        "print('keras using %s backend'%keras.backend.backend())\n",
        "import pandas as pd\n",
        "from sklearn.preprocessing import OneHotEncoder\n",
        "# Sets up the graphing configuration\n",
        "import matplotlib.pyplot as graph\n",
        "%matplotlib inline\n",
        "graph.rcParams['figure.figsize'] = (15,5)\n",
        "graph.rcParams[\"font.family\"] = 'DejaVu Sans'\n",
        "graph.rcParams[\"font.size\"] = '12'\n",
        "graph.rcParams['image.cmap'] = 'rainbow'"
      ],
      "execution_count": 1,
      "outputs": [
        {
          "output_type": "stream",
          "text": [
            "keras using tensorflow backend\n"
          ],
          "name": "stdout"
        }
      ]
    },
    {
      "cell_type": "code",
      "metadata": {
        "id": "RCAejT8AfmOo"
      },
      "source": [
        "# Run this too!\n",
        "# This gets our data ready\n",
        "\n",
        "# Load the data\n",
        "dataset = pd.read_csv('/content/dog_data.csv')\n",
        "\n",
        "# Separate out the features\n",
        "features = dataset.drop(['breed'], axis = 1)\n",
        "\n",
        "# Sets the target one-hot vectors\n",
        "target = OneHotEncoder(sparse = False).fit_transform(np.transpose([dataset['breed']]))\n",
        "\n",
        "# Take the first 4/5 of the data and assign it to training\n",
        "train_X = features.values[:160]\n",
        "train_Y = target[:160]\n",
        "\n",
        "# Take the last 1/5 of the data and assign it to testing\n",
        "test_X = features.values[160:]\n",
        "test_Y = target[160:]"
      ],
      "execution_count": 3,
      "outputs": []
    },
    {
      "cell_type": "markdown",
      "metadata": {
        "id": "KYdQXtjvfmO3"
      },
      "source": [
        "Step 2\n",
        "------\n",
        "\n",
        "The box below contains methods to help us quickly change the structure. Don't edit them - just run the box.\n",
        "\n",
        "The __train_network__ method allows us to change:\n",
        "* the number of layers\n",
        "* the activation functions the layers use\n",
        "* the optimizer of the model\n",
        "* the number of training cycles for the model (__epochs__)\n",
        "\n",
        "The plot_acc and bar_acc just plot our models so we can easily see how well they do.\n",
        "\n",
        "Don't worry about the code - it is simply to make the next steps easier.\n",
        "\n",
        "#### __Run the code__ below."
      ]
    },
    {
      "cell_type": "code",
      "metadata": {
        "id": "FPJfptOnfmO6"
      },
      "source": [
        "# Run this!\n",
        "# Below are a few helper methods. Do not edit these.\n",
        "\n",
        "def train_network(structure, activation, optimizer, epochs):\n",
        "    \n",
        "    os.environ['PYTHONHASHSEED'] = '0'\n",
        "    rn.seed(seed)\n",
        "    np.random.seed(seed)\n",
        "    \n",
        "    # This initialises the model\n",
        "    model = keras.models.Sequential()\n",
        "    \n",
        "    # This is our input + the first hidden layer 1\n",
        "    model.add(keras.layers.Dense(units = structure[1], input_dim = structure[0], activation = activation)) \n",
        "    \n",
        "    # Hidden layer 2, if not ignored (of size 0)\n",
        "    if structure[2] > 0:\n",
        "        model.add(keras.layers.Dense(units = structure[2], activation = activation))\n",
        "        \n",
        "    # Output layer\n",
        "    model.add(keras.layers.Dense(units=structure[-1], activation = \"softmax\"))\n",
        "    \n",
        "    # Compiles the model with parameters\n",
        "    model.compile(loss = 'categorical_crossentropy', optimizer = optimizer, metrics = ['accuracy'])\n",
        "    \n",
        "    # This tells the us training has started, so we know that it's actually running\n",
        "    print('training... ', end = '')\n",
        "\n",
        "    # This trains the network\n",
        "    training_stats = model.fit(train_X, train_Y, batch_size = 1, epochs = epochs, verbose = 0, shuffle = False)\n",
        "    \n",
        "    # Results!\n",
        "    print('train_acc: %0.3f, test_acc: %0.3f' %(training_stats.history['accuracy'][-1], \n",
        "                                                model.evaluate(test_X, test_Y, verbose = 0)[1]))\n",
        "    \n",
        "    # This returns the results and the model for use outside the function\n",
        "    return training_stats, model\n",
        "\n",
        "# Plots our evaluations in a line graph to see how they compare\n",
        "def plot_acc(train_acc, test_acc, title):\n",
        "    # Plots the training and testing accuracy lines\n",
        "    training_accuracy, = graph.plot(train_acc, label = 'Training Accuracy')\n",
        "    testing_accuracy, = graph.plot(test_acc, label = 'Testing Accuracy')\n",
        "    graph.legend(handles = [training_accuracy, testing_accuracy])\n",
        "    \n",
        "    # Plots guide lines along y = 0 and y = 1 to help visualise\n",
        "    xp = np.linspace(0, train_acc.shape[0] - 1, 10 * train_acc.shape[0])\n",
        "    graph.plot(xp, np.full(xp.shape, 1), c = 'k', linestyle = ':', alpha = 0.5)\n",
        "    graph.plot(xp, np.full(xp.shape, 0), c = 'k', linestyle = ':', alpha = 0.5)\n",
        "    \n",
        "    graph.xticks(range(0, train_acc.shape[0]), range(1, train_acc.shape[0] + 1))\n",
        "    graph.ylim(0,1)\n",
        "    graph.title(title)\n",
        "    \n",
        "    graph.show()\n",
        "\n",
        "# Plots our evaluations in a bar chart to see how they compare\n",
        "def bar_acc(train_acc, test_acc, title, xticks):\n",
        "    index = range(1, train_acc.shape[0] + 1)\n",
        "    \n",
        "    # Plots the training and testing accuracy bars\n",
        "    training_accuracy = graph.bar(index, train_acc, 0.4, align = 'center')\n",
        "    testing_accuracy = graph.bar(index, test_acc, 0.4, align = 'edge')\n",
        "    graph.legend((training_accuracy[0], testing_accuracy[0]), ('Training Accuracy', 'Testing Accuracy'))\n",
        "    \n",
        "    graph.xticks(index, xticks)\n",
        "    graph.title(title)\n",
        "    \n",
        "    graph.show()"
      ],
      "execution_count": 5,
      "outputs": []
    },
    {
      "cell_type": "markdown",
      "metadata": {
        "id": "32wXsYOkfmPT"
      },
      "source": [
        "Step 3\n",
        "------\n",
        "\n",
        "Let's first look at how different layer sizes impact performance.\n",
        "\n",
        "Let's look at a network with just one hidden layer. We'll see how it performs with 1 to 10 nodes.\n",
        "\n",
        "### In the cell below replace:\n",
        "#### 1. `<addHidden1>` with `hidden1`\n",
        "#### 2. `<addTrainAcc>` with `train_acc`\n",
        "#### 3. `<addTestAcc>` with `test_acc`\n",
        "#### and then __run the code__."
      ]
    },
    {
      "cell_type": "code",
      "metadata": {
        "id": "0Zn-5-ZtfmPU",
        "outputId": "95a0fefb-30a1-4d97-cee5-c97062178ec6",
        "colab": {
          "base_uri": "https://localhost:8080/",
          "height": 451
        }
      },
      "source": [
        "# Initialises empty arrays into which to append new values.\n",
        "train_acc = np.empty((0))\n",
        "test_acc = np.empty((0))\n",
        "\n",
        "for hidden1 in range (1,11):\n",
        "    print('Evaluating model with %i hidden neurons... ' %hidden1, end = '')\n",
        "\n",
        "###\n",
        "# REPLACE <addHidden1> BELOW WITH hidden1\n",
        "###\n",
        "    training_stats, model = train_network(structure = [3, hidden1, hidden1, 3], \n",
        "                                          activation = 'relu', optimizer = 'RMSprop', epochs = 12)\n",
        "###\n",
        "    \n",
        "    train_acc = np.append(train_acc, training_stats.history['accuracy'][-1])\n",
        "    test_acc = np.append(test_acc, model.evaluate(test_X, test_Y, verbose = 0)[1])\n",
        "\n",
        "###\n",
        "# REPLACE <addTrainAcc> WITH train_acc AND <addTestAcc> WITH test_acc\n",
        "###\n",
        "plot_acc(train_acc, test_acc, 'hidden layer size performance comparison')\n",
        "###"
      ],
      "execution_count": 11,
      "outputs": [
        {
          "output_type": "stream",
          "text": [
            "Evaluating model with 1 hidden neurons... training... train_acc: 0.344, test_acc: 0.250\n",
            "Evaluating model with 2 hidden neurons... training... train_acc: 0.625, test_acc: 0.750\n",
            "Evaluating model with 3 hidden neurons... training... train_acc: 0.887, test_acc: 0.850\n",
            "Evaluating model with 4 hidden neurons... training... train_acc: 0.869, test_acc: 0.675\n",
            "Evaluating model with 5 hidden neurons... training... train_acc: 0.931, test_acc: 0.850\n",
            "Evaluating model with 6 hidden neurons... training... train_acc: 0.925, test_acc: 0.900\n",
            "Evaluating model with 7 hidden neurons... training... train_acc: 0.894, test_acc: 0.800\n",
            "Evaluating model with 8 hidden neurons... training... train_acc: 0.962, test_acc: 0.950\n",
            "Evaluating model with 9 hidden neurons... training... train_acc: 0.938, test_acc: 0.950\n",
            "Evaluating model with 10 hidden neurons... training... train_acc: 0.906, test_acc: 0.925\n"
          ],
          "name": "stdout"
        },
        {
          "output_type": "display_data",
          "data": {
            "image/png": "[encoded data removed]",
            "text/plain": [
              "<Figure size 432x288 with 1 Axes>"
            ]
          },
          "metadata": {
            "tags": [],
            "needs_background": "light"
          }
        }
      ]
    },
    {
      "cell_type": "markdown",
      "metadata": {
        "id": "ZfCB9feafmPf"
      },
      "source": [
        "So, experimenting with different sizes of hidden layers can dramatically improve your results.\n",
        "\n",
        "Step 4\n",
        "------\n",
        "\n",
        "Now we'll look at how different activation functions impact the performance.\n",
        "\n",
        "There's lots we will try, just remember it is common to try both `relu` and `tanh` first.\n",
        "\n",
        "### In the cell below replace:\n",
        "#### 1. `<addActivation>` with `activation`\n",
        "#### 2. `<addActivationFunctions>` with `activation_functions`\n",
        "#### and then __run the code__."
      ]
    },
    {
      "cell_type": "code",
      "metadata": {
        "scrolled": false,
        "id": "kPlOS1ZQfmPl",
        "outputId": "08192e6d-6477-432c-d584-29238b8c8a40",
        "colab": {
          "base_uri": "https://localhost:8080/",
          "height": 435
        }
      },
      "source": [
        "train_acc = np.empty((0))\n",
        "test_acc = np.empty((0))\n",
        "\n",
        "# Makes a list of the activation functions we wish to compare\n",
        "activation_functions = ['elu', 'selu', 'relu', 'tanh', 'sigmoid', \n",
        "                        'hard_sigmoid', 'softplus', 'softsign', 'linear']\n",
        "\n",
        "for activation in activation_functions:\n",
        "    print('Evaluating model with %s hidden layer activation function... ' %activation, end = '')\n",
        "\n",
        "###\n",
        "# REPLACE <addActivation> WITH activation\n",
        "###\n",
        "    training_stats, model = train_network(structure = [3, 4, 2, 3],\n",
        "                                          activation = activation, optimizer = 'RMSprop', epochs = 12)\n",
        "###\n",
        "    \n",
        "    train_acc = np.append(train_acc, training_stats.history['accuracy'][-1])\n",
        "    test_acc = np.append(test_acc, model.evaluate(test_X, test_Y, verbose=0)[1])\n",
        "    \n",
        "###\n",
        "# REPLACE THE <addActivationFunctions> BELOW WITH activation_functions\n",
        "###\n",
        "bar_acc(train_acc, test_acc, 'activation function performance comparison using (4,2) hidden layer', activation_functions)\n",
        "###"
      ],
      "execution_count": 12,
      "outputs": [
        {
          "output_type": "stream",
          "text": [
            "Evaluating model with elu hidden layer activation function... training... train_acc: 0.819, test_acc: 0.900\n",
            "Evaluating model with selu hidden layer activation function... training... train_acc: 0.900, test_acc: 0.800\n",
            "Evaluating model with relu hidden layer activation function... training... train_acc: 0.344, test_acc: 0.250\n",
            "Evaluating model with tanh hidden layer activation function... training... train_acc: 0.956, test_acc: 0.850\n",
            "Evaluating model with sigmoid hidden layer activation function... training... train_acc: 0.581, test_acc: 0.425\n",
            "Evaluating model with hard_sigmoid hidden layer activation function... training... train_acc: 0.775, test_acc: 0.650\n",
            "Evaluating model with softplus hidden layer activation function... training... train_acc: 0.669, test_acc: 0.675\n",
            "Evaluating model with softsign hidden layer activation function... training... train_acc: 0.631, test_acc: 0.725\n",
            "Evaluating model with linear hidden layer activation function... training... train_acc: 0.856, test_acc: 0.725\n"
          ],
          "name": "stdout"
        },
        {
          "output_type": "display_data",
          "data": {
            "image/png": "[encoded data removed]",
            "text/plain": [
              "<Figure size 432x288 with 1 Axes>"
            ]
          },
          "metadata": {
            "tags": [],
            "needs_background": "light"
          }
        }
      ]
    },
    {
      "cell_type": "markdown",
      "metadata": {
        "id": "GfmhnYUEfmPw"
      },
      "source": [
        "There's quite a lot of variance there. It's always good to quickly test different activation functions first.\n",
        "\n",
        "Next, lets try changing the shape of the hidden layers.\n",
        "\n",
        "#### Replace `<updateHere>`'s with `3` and run the code."
      ]
    },
    {
      "cell_type": "code",
      "metadata": {
        "id": "l7eoVLMJfmP0",
        "outputId": "3e7220cb-5d9a-4fca-d1d1-ced9490d6580",
        "colab": {
          "base_uri": "https://localhost:8080/",
          "height": 435
        }
      },
      "source": [
        "train_acc = np.empty((0))\n",
        "test_acc = np.empty((0))\n",
        "\n",
        "activation_functions = ['elu', 'selu', 'relu', 'tanh', 'sigmoid',\n",
        "                        'hard_sigmoid', 'softplus', 'softsign', 'linear']\n",
        "\n",
        "for activation in activation_functions:\n",
        "    print('Evaluating model with %s hidden layer activation function... ' %activation, end='')\n",
        "    \n",
        "\n",
        "# The value you choose for <updateHere> below will change the size of the hidden layers. Lets try changing them both to 3 for now\n",
        "# (but you can have a play around with different numbers if you want)\n",
        "###\n",
        "# REPLACE THE <updateHere>'s BELOW WITH 3\n",
        "###\n",
        "    training_stats, model = train_network(structure = [3, 3, 3, 3], \n",
        "                                          activation = activation, optimizer = 'RMSprop', epochs = 12)\n",
        "###\n",
        "    \n",
        "    train_acc = np.append(train_acc, training_stats.history['accuracy'][-1])\n",
        "    test_acc = np.append(test_acc, model.evaluate(test_X, test_Y, verbose=0)[1])\n",
        "    \n",
        "bar_acc(train_acc, test_acc, 'activation function performance comparison using (3,3) hidden layer', activation_functions)"
      ],
      "execution_count": 13,
      "outputs": [
        {
          "output_type": "stream",
          "text": [
            "Evaluating model with elu hidden layer activation function... training... train_acc: 0.762, test_acc: 0.625\n",
            "Evaluating model with selu hidden layer activation function... training... train_acc: 0.925, test_acc: 0.925\n",
            "Evaluating model with relu hidden layer activation function... training... train_acc: 0.344, test_acc: 0.250\n",
            "Evaluating model with tanh hidden layer activation function... training... train_acc: 0.806, test_acc: 0.875\n",
            "Evaluating model with sigmoid hidden layer activation function... training... train_acc: 0.637, test_acc: 0.575\n",
            "Evaluating model with hard_sigmoid hidden layer activation function... training... train_acc: 0.663, test_acc: 0.575\n",
            "Evaluating model with softplus hidden layer activation function... training... train_acc: 0.962, test_acc: 0.950\n",
            "Evaluating model with softsign hidden layer activation function... training... train_acc: 0.663, test_acc: 0.600\n",
            "Evaluating model with linear hidden layer activation function... training... train_acc: 0.769, test_acc: 0.800\n"
          ],
          "name": "stdout"
        },
        {
          "output_type": "display_data",
          "data": {
            "image/png": "[encoded data removed]",
            "text/plain": [
              "<Figure size 432x288 with 1 Axes>"
            ]
          },
          "metadata": {
            "tags": [],
            "needs_background": "light"
          }
        }
      ]
    },
    {
      "cell_type": "markdown",
      "metadata": {
        "id": "-dbu-inKfmQN"
      },
      "source": [
        "Step 5\n",
        "-----\n",
        "\n",
        "The __optimisation function__ is the last major parameter of the network architecture. It changes how the network is trained - so it can have a __very large impact on training time and end performance__.\n",
        "\n",
        "Note: this step won't always provide the same results every time it is run. Optimizers such as SGD will give different results.\n",
        "\n",
        "#### Replace `<addOptimizer>` with `optimizer` and run the code."
      ]
    },
    {
      "cell_type": "code",
      "metadata": {
        "id": "zsP_IcETfmQO",
        "outputId": "4c88dfa2-c391-4cbd-de8e-c70ea4c6d33d",
        "colab": {
          "base_uri": "https://localhost:8080/",
          "height": 400
        }
      },
      "source": [
        "train_acc = np.empty((0))\n",
        "test_acc = np.empty((0))\n",
        "\n",
        "# This is a list of the optimisation functions for us to compare\n",
        "optimization_functions = ['SGD', 'RMSprop', 'Adagrad', 'Adadelta',\n",
        "                          'Adam', 'Adamax', 'Nadam']\n",
        "\n",
        "for optimizer in optimization_functions:\n",
        "    print('Evaluating model with %s optimizer... ' %optimizer, end='')\n",
        "    \n",
        "    \n",
        "# The <addOptimizer> below is where we specify the optimizer in the code    \n",
        "###\n",
        "# REPLACE THE <addOptimizer> BELOW WITH optimizer\n",
        "###\n",
        "    training_stats, model = train_network(structure = [3, 4, 2, 3],\n",
        "                                          activation = 'relu', optimizer = optimizer, epochs = 12)\n",
        "###\n",
        "\n",
        "# This is recording our data for the plot\n",
        "    train_acc = np.append(train_acc, training_stats.history['accuracy'][-1])\n",
        "    test_acc = np.append(test_acc, model.evaluate(test_X, test_Y, verbose=0)[1])\n",
        "\n",
        "# And now, the plot!    \n",
        "bar_acc(train_acc, test_acc, 'optimizer performance comparison using (4,2) hidden layer', optimization_functions)"
      ],
      "execution_count": 14,
      "outputs": [
        {
          "output_type": "stream",
          "text": [
            "Evaluating model with SGD optimizer... training... train_acc: 0.650, test_acc: 0.675\n",
            "Evaluating model with RMSprop optimizer... training... train_acc: 0.619, test_acc: 0.600\n",
            "Evaluating model with Adagrad optimizer... training... train_acc: 0.112, test_acc: 0.075\n",
            "Evaluating model with Adadelta optimizer... training... train_acc: 0.344, test_acc: 0.250\n",
            "Evaluating model with Adam optimizer... training... train_acc: 0.700, test_acc: 0.650\n",
            "Evaluating model with Adamax optimizer... training... train_acc: 0.663, test_acc: 0.600\n",
            "Evaluating model with Nadam optimizer... training... train_acc: 0.594, test_acc: 0.475\n"
          ],
          "name": "stdout"
        },
        {
          "output_type": "display_data",
          "data": {
            "image/png": "[encoded data removed]",
            "text/plain": [
              "<Figure size 432x288 with 1 Axes>"
            ]
          },
          "metadata": {
            "tags": [],
            "needs_background": "light"
          }
        }
      ]
    },
    {
      "cell_type": "markdown",
      "metadata": {
        "id": "upXMaQ8UfmQc"
      },
      "source": [
        "Step 6\n",
        "-------\n",
        "\n",
        "Let's try to combine what we've seen above and try to create a neural network that performs better than what we made in exercise 7, where we used the structure `[3,4,2,3]`, the activation function `relu`, and the optimiser `SGD` (Stochastic Gradient Descent).\n",
        "\n",
        "### In the cell below replace:\n",
        "#### 1. `<layerSize>`'s with numbers of your choice (how many nodes the hidden layers will have)\n",
        "#### 2. `<activationFunction>` with one of the following: `'relu'`, `'softsign'`, `'tanh'`, `'elu'`, `'selu'`, `'softplus'`, `'linear'`\n",
        "#### 3. `<optimiser>` with one of the following: `'SGD'`, `'adam'`, `'RMSprop'`, `'Adagrad'`, `'Adadelta'`, `'Adamax'`, `'Nadam'`\n",
        "#### and then __run the code__."
      ]
    },
    {
      "cell_type": "code",
      "metadata": {
        "id": "CkQd_VLrfmQe",
        "outputId": "c0733304-e4aa-49ad-ab98-d4d3b334c0a6",
        "colab": {
          "base_uri": "https://localhost:8080/",
          "height": 357
        }
      },
      "source": [
        "###\n",
        "# REPLACE THE <layerSize>'s' BELOW WITH PARAMETERS TO TEST A NEW NEURAL NETWORK e.g. 4 and 2\n",
        "###\n",
        "structure = [3, 4, 2, 3]\n",
        "###\n",
        "\n",
        "###\n",
        "# REPLACE <activationFunction> WITH ONE OF THE FOLLOWING: 'relu', 'softsign', 'tanh', 'elu', 'selu', 'softplus', 'linear'\n",
        "###\n",
        "activation = 'relu', 'softsign', 'tanh', 'elu', 'selu', 'softplus', 'linear'\n",
        "###\n",
        "\n",
        "###\n",
        "# REPLACE <optimiser> WITH ONE OF THE FOLLOWING: 'SGD', 'adam', 'RMSprop', 'Adagrad', 'Adadelta', 'Adamax', 'Nadam'\n",
        "###\n",
        "optimizer = 'SGD', 'adam', 'RMSprop', 'Adagrad', 'Adadelta', 'Adamax', 'Nadam'\n",
        "###\n",
        "\n",
        "training_stats, model = train_network(structure, activation, optimizer, epochs = 24)\n",
        "\n",
        "# We can plot our training statistics to see how it developed over time\n",
        "accuracy, = graph.plot(training_stats.history['accuracy'], label = 'Accuracy')\n",
        "training_loss, = graph.plot(training_stats.history['loss'], label = 'Training Loss')\n",
        "graph.legend(handles = [accuracy, training_loss])\n",
        "loss = np.array(training_stats.history['loss'])\n",
        "xp = np.linspace(0, loss.shape[0], 10 * loss.shape[0])\n",
        "graph.plot(xp, np.full(xp.shape, 1), c = 'k', linestyle = ':', alpha = 0.5)\n",
        "graph.plot(xp, np.full(xp.shape, 0), c = 'k', linestyle = ':', alpha = 0.5)\n",
        "graph.show()"
      ],
      "execution_count": 26,
      "outputs": [
        {
          "output_type": "error",
          "ename": "TypeError",
          "evalue": "ignored",
          "traceback": [
            "\u001b[0;31m---------------------------------------------------------------------------\u001b[0m",
            "\u001b[0;31mTypeError\u001b[0m                                 Traceback (most recent call last)",
            "\u001b[0;32m<ipython-input-26-cc45094f996a>\u001b[0m in \u001b[0;36m<module>\u001b[0;34m()\u001b[0m\n\u001b[1;32m     17\u001b[0m \u001b[0;31m###\u001b[0m\u001b[0;34m\u001b[0m\u001b[0;34m\u001b[0m\u001b[0;34m\u001b[0m\u001b[0m\n\u001b[1;32m     18\u001b[0m \u001b[0;34m\u001b[0m\u001b[0m\n\u001b[0;32m---> 19\u001b[0;31m \u001b[0mtraining_stats\u001b[0m\u001b[0;34m,\u001b[0m \u001b[0mmodel\u001b[0m \u001b[0;34m=\u001b[0m \u001b[0mtrain_network\u001b[0m\u001b[0;34m(\u001b[0m\u001b[0mstructure\u001b[0m\u001b[0;34m,\u001b[0m \u001b[0mactivation\u001b[0m\u001b[0;34m,\u001b[0m \u001b[0moptimizer\u001b[0m\u001b[0;34m,\u001b[0m \u001b[0mepochs\u001b[0m \u001b[0;34m=\u001b[0m \u001b[0;36m24\u001b[0m\u001b[0;34m)\u001b[0m\u001b[0;34m\u001b[0m\u001b[0;34m\u001b[0m\u001b[0m\n\u001b[0m\u001b[1;32m     20\u001b[0m \u001b[0;34m\u001b[0m\u001b[0m\n\u001b[1;32m     21\u001b[0m \u001b[0;31m# We can plot our training statistics to see how it developed over time\u001b[0m\u001b[0;34m\u001b[0m\u001b[0;34m\u001b[0m\u001b[0;34m\u001b[0m\u001b[0m\n",
            "\u001b[0;32m<ipython-input-5-bf4eb9142b16>\u001b[0m in \u001b[0;36mtrain_network\u001b[0;34m(structure, activation, optimizer, epochs)\u001b[0m\n\u001b[1;32m     12\u001b[0m \u001b[0;34m\u001b[0m\u001b[0m\n\u001b[1;32m     13\u001b[0m     \u001b[0;31m# This is our input + the first hidden layer 1\u001b[0m\u001b[0;34m\u001b[0m\u001b[0;34m\u001b[0m\u001b[0;34m\u001b[0m\u001b[0m\n\u001b[0;32m---> 14\u001b[0;31m     \u001b[0mmodel\u001b[0m\u001b[0;34m.\u001b[0m\u001b[0madd\u001b[0m\u001b[0;34m(\u001b[0m\u001b[0mkeras\u001b[0m\u001b[0;34m.\u001b[0m\u001b[0mlayers\u001b[0m\u001b[0;34m.\u001b[0m\u001b[0mDense\u001b[0m\u001b[0;34m(\u001b[0m\u001b[0munits\u001b[0m \u001b[0;34m=\u001b[0m \u001b[0mstructure\u001b[0m\u001b[0;34m[\u001b[0m\u001b[0;36m1\u001b[0m\u001b[0;34m]\u001b[0m\u001b[0;34m,\u001b[0m \u001b[0minput_dim\u001b[0m \u001b[0;34m=\u001b[0m \u001b[0mstructure\u001b[0m\u001b[0;34m[\u001b[0m\u001b[0;36m0\u001b[0m\u001b[0;34m]\u001b[0m\u001b[0;34m,\u001b[0m \u001b[0mactivation\u001b[0m \u001b[0;34m=\u001b[0m \u001b[0mactivation\u001b[0m\u001b[0;34m)\u001b[0m\u001b[0;34m)\u001b[0m\u001b[0;34m\u001b[0m\u001b[0;34m\u001b[0m\u001b[0m\n\u001b[0m\u001b[1;32m     15\u001b[0m \u001b[0;34m\u001b[0m\u001b[0m\n\u001b[1;32m     16\u001b[0m     \u001b[0;31m# Hidden layer 2, if not ignored (of size 0)\u001b[0m\u001b[0;34m\u001b[0m\u001b[0;34m\u001b[0m\u001b[0;34m\u001b[0m\u001b[0m\n",
            "\u001b[0;32m/usr/local/lib/python3.6/dist-packages/tensorflow/python/keras/layers/core.py\u001b[0m in \u001b[0;36m__init__\u001b[0;34m(self, units, activation, use_bias, kernel_initializer, bias_initializer, kernel_regularizer, bias_regularizer, activity_regularizer, kernel_constraint, bias_constraint, **kwargs)\u001b[0m\n\u001b[1;32m   1145\u001b[0m \u001b[0;34m\u001b[0m\u001b[0m\n\u001b[1;32m   1146\u001b[0m     \u001b[0mself\u001b[0m\u001b[0;34m.\u001b[0m\u001b[0munits\u001b[0m \u001b[0;34m=\u001b[0m \u001b[0mint\u001b[0m\u001b[0;34m(\u001b[0m\u001b[0munits\u001b[0m\u001b[0;34m)\u001b[0m \u001b[0;32mif\u001b[0m \u001b[0;32mnot\u001b[0m \u001b[0misinstance\u001b[0m\u001b[0;34m(\u001b[0m\u001b[0munits\u001b[0m\u001b[0;34m,\u001b[0m \u001b[0mint\u001b[0m\u001b[0;34m)\u001b[0m \u001b[0;32melse\u001b[0m \u001b[0munits\u001b[0m\u001b[0;34m\u001b[0m\u001b[0;34m\u001b[0m\u001b[0m\n\u001b[0;32m-> 1147\u001b[0;31m     \u001b[0mself\u001b[0m\u001b[0;34m.\u001b[0m\u001b[0mactivation\u001b[0m \u001b[0;34m=\u001b[0m \u001b[0mactivations\u001b[0m\u001b[0;34m.\u001b[0m\u001b[0mget\u001b[0m\u001b[0;34m(\u001b[0m\u001b[0mactivation\u001b[0m\u001b[0;34m)\u001b[0m\u001b[0;34m\u001b[0m\u001b[0;34m\u001b[0m\u001b[0m\n\u001b[0m\u001b[1;32m   1148\u001b[0m     \u001b[0mself\u001b[0m\u001b[0;34m.\u001b[0m\u001b[0muse_bias\u001b[0m \u001b[0;34m=\u001b[0m \u001b[0muse_bias\u001b[0m\u001b[0;34m\u001b[0m\u001b[0;34m\u001b[0m\u001b[0m\n\u001b[1;32m   1149\u001b[0m     \u001b[0mself\u001b[0m\u001b[0;34m.\u001b[0m\u001b[0mkernel_initializer\u001b[0m \u001b[0;34m=\u001b[0m \u001b[0minitializers\u001b[0m\u001b[0;34m.\u001b[0m\u001b[0mget\u001b[0m\u001b[0;34m(\u001b[0m\u001b[0mkernel_initializer\u001b[0m\u001b[0;34m)\u001b[0m\u001b[0;34m\u001b[0m\u001b[0;34m\u001b[0m\u001b[0m\n",
            "\u001b[0;32m/usr/local/lib/python3.6/dist-packages/tensorflow/python/util/dispatch.py\u001b[0m in \u001b[0;36mwrapper\u001b[0;34m(*args, **kwargs)\u001b[0m\n\u001b[1;32m    199\u001b[0m     \u001b[0;34m\"\"\"Call target, and fall back on dispatchers if there is a TypeError.\"\"\"\u001b[0m\u001b[0;34m\u001b[0m\u001b[0;34m\u001b[0m\u001b[0m\n\u001b[1;32m    200\u001b[0m     \u001b[0;32mtry\u001b[0m\u001b[0;34m:\u001b[0m\u001b[0;34m\u001b[0m\u001b[0;34m\u001b[0m\u001b[0m\n\u001b[0;32m--> 201\u001b[0;31m       \u001b[0;32mreturn\u001b[0m \u001b[0mtarget\u001b[0m\u001b[0;34m(\u001b[0m\u001b[0;34m*\u001b[0m\u001b[0margs\u001b[0m\u001b[0;34m,\u001b[0m \u001b[0;34m**\u001b[0m\u001b[0mkwargs\u001b[0m\u001b[0;34m)\u001b[0m\u001b[0;34m\u001b[0m\u001b[0;34m\u001b[0m\u001b[0m\n\u001b[0m\u001b[1;32m    202\u001b[0m     \u001b[0;32mexcept\u001b[0m \u001b[0;34m(\u001b[0m\u001b[0mTypeError\u001b[0m\u001b[0;34m,\u001b[0m \u001b[0mValueError\u001b[0m\u001b[0;34m)\u001b[0m\u001b[0;34m:\u001b[0m\u001b[0;34m\u001b[0m\u001b[0;34m\u001b[0m\u001b[0m\n\u001b[1;32m    203\u001b[0m       \u001b[0;31m# Note: convert_to_eager_tensor currently raises a ValueError, not a\u001b[0m\u001b[0;34m\u001b[0m\u001b[0;34m\u001b[0m\u001b[0;34m\u001b[0m\u001b[0m\n",
            "\u001b[0;32m/usr/local/lib/python3.6/dist-packages/tensorflow/python/keras/activations.py\u001b[0m in \u001b[0;36mget\u001b[0;34m(identifier)\u001b[0m\n\u001b[1;32m    535\u001b[0m     raise TypeError(\n\u001b[1;32m    536\u001b[0m         'Could not interpret activation function identifier: {}'.format(\n\u001b[0;32m--> 537\u001b[0;31m             identifier))\n\u001b[0m",
            "\u001b[0;31mTypeError\u001b[0m: Could not interpret activation function identifier: ('relu', 'softsign', 'tanh', 'elu', 'selu', 'softplus', 'linear')"
          ]
        }
      ]
    },
    {
      "cell_type": "markdown",
      "metadata": {
        "id": "lGqYywgdfmQp"
      },
      "source": [
        "How does it look? Were we able to beat the other network? Try out a number of different configurations to see how they perform!"
      ]
    },
    {
      "cell_type": "markdown",
      "metadata": {
        "id": "q8D2W-5gfmQr"
      },
      "source": [
        "Conclusion\n",
        "-------\n",
        "\n",
        "We've compared how different neural network architecture parameters influence accuracy performance, and we've tried to combine them in such a way that we maximise this performance."
      ]
    }
  ]
}